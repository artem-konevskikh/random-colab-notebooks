{
  "nbformat": 4,
  "nbformat_minor": 0,
  "metadata": {
    "colab": {
      "provenance": [],
      "authorship_tag": "ABX9TyPpukP0X0YlCulzeCe0nq89",
      "include_colab_link": true
    },
    "kernelspec": {
      "name": "python3",
      "display_name": "Python 3"
    },
    "language_info": {
      "name": "python"
    },
    "accelerator": "GPU"
  },
  "cells": [
    {
      "cell_type": "markdown",
      "metadata": {
        "id": "view-in-github",
        "colab_type": "text"
      },
      "source": [
        "<a href=\"https://colab.research.google.com/github/artem-konevskikh/random-colab-notebooks/blob/main/cut.ipynb\" target=\"_parent\"><img src=\"https://colab.research.google.com/assets/colab-badge.svg\" alt=\"Open In Colab\"/></a>"
      ]
    },
    {
      "cell_type": "markdown",
      "source": [
        "# Contrastive Unpaired Translation (CUT)\n",
        "\n",
        "\n",
        "Made by [Artem Konevskikh](https://aiculedssul.net/)\n",
        "\n",
        "[Original repository](https://github.com/taesungp/contrastive-unpaired-translation)"
      ],
      "metadata": {
        "id": "tlMmgvK_Q_x7"
      }
    },
    {
      "cell_type": "code",
      "execution_count": null,
      "metadata": {
        "cellView": "form",
        "id": "0t6StT6_QwMP"
      },
      "outputs": [],
      "source": [
        "#@title Mound Google Drive\n",
        "#@markdown Connect Google Drive to save the converted point cloud\n",
        "from google.colab import drive\n",
        "drive.mount('/content/drive', force_remount=True)"
      ]
    },
    {
      "cell_type": "code",
      "source": [
        "#@title Install\n",
        "import os\n",
        "import shlex\n",
        "!pip install dominate visdom GPUtil\n",
        "!git clone https://github.com/taesungp/contrastive-unpaired-translation /content/drive/MyDrive/CUT\n",
        "%cd /content/drive/MyDrive/CUT"
      ],
      "metadata": {
        "cellView": "form",
        "id": "4dScC8oTXm2y"
      },
      "execution_count": null,
      "outputs": []
    },
    {
      "cell_type": "code",
      "source": [
        "#@title Prepare Dataset\n",
        "#@markdown First dataset folder\n",
        "datasetA_dir = \"/content/drive/MyDrive/uibk/mycelium-dataset\" #@param {type: \"string\"}\n",
        "#@markdown Second dataset folder\n",
        "datasetB_dir = \"/content/drive/MyDrive/Datasets/sat-dataset\" #@param {type: \"string\"}\n",
        "#@markdown CUT dataset folder\n",
        "dataset_dir = \"/content/drive/MyDrive/Datasets/cut-test1\" #@param {type: \"string\"}\n",
        "\n",
        "datasetA_dir = shlex.quote(datasetA_dir)\n",
        "datasetB_dir = shlex.quote(datasetB_dir)\n",
        "dataset_dir = shlex.quote(dataset_dir)\n",
        "\n",
        "if not os.path.isdir(dataset_dir):\n",
        "  !mkdir $dataset_dir \n",
        "\n",
        "!mkdir $dataset_dir/trainA $dataset_dir/trainB $dataset_dir/testA $dataset_dir/testB\n",
        "!cp $datasetA_dir/* $dataset_dir/trainA/.\n",
        "!cp $datasetB_dir/* $dataset_dir/trainB/.\n"
      ],
      "metadata": {
        "cellView": "form",
        "id": "w0IC6_WhX1sX"
      },
      "execution_count": null,
      "outputs": []
    },
    {
      "cell_type": "code",
      "source": [
        "#@title Train\n",
        "#@markdown Experiment name\n",
        "name = \"mycelium\" #@param {type: \"string\"}\n",
        "#@markdown Dataset folder\n",
        "dataset_dir = \"/content/drive/MyDrive/Datasets/cut-test1\" #@param {type: \"string\"}\n",
        "#@markdown Load size\n",
        "load_size = 512 #@param {type: \"integer\"}\n",
        "#@markdown Crop size\n",
        "crop_size = 512 #@param {type: \"integer\"}\n",
        "#@markdown Number of epochs\n",
        "n_epochs = 200 #@param {type: \"integer\"}\n",
        "#@markdown Frequency of saving checkpoints at the end of epochs\n",
        "save_epoch_freq = 1  #@param {type: \"integer\"}\n",
        "#@markdown Frequency of saving training results\n",
        "update_html_freq = 100  #@param {type: \"integer\"}\n",
        "\n",
        "name = shlex.quote(name)\n",
        "dataset_dir = shlex.quote(dataset_dir)\n",
        "\n",
        "\n",
        "\n",
        "!python train.py --dataroot $dataset_dir \\\n",
        "        --name $name \\\n",
        "        --CUT_mode CUT \\\n",
        "        --load_size $load_size \\\n",
        "        --crop_size $crop_size \\\n",
        "        --display_id 0 \\\n",
        "        --n_epochs $n_epochs \\\n",
        "        --save_epoch_freq $save_epoch_freq \\\n",
        "        --update_html_freq $update_html_freq"
      ],
      "metadata": {
        "cellView": "form",
        "id": "RmV58S4zZH0C"
      },
      "execution_count": null,
      "outputs": []
    },
    {
      "cell_type": "code",
      "source": [
        "#@title Generate images\n",
        "#@markdown Experiment name\n",
        "name = \"mycelium\" #@param {type: \"string\"}\n",
        "#@markdown Dataset folder\n",
        "dataset_dir = \"/content/drive/MyDrive/Datasets/cut-test1\" #@param {type: \"string\"}\n",
        "#@markdown Direction\n",
        "direction = 'AtoB' #@param ['AtoB', 'BtoA']\n",
        "#@markdown Test images folder\n",
        "test_imgs_dir = \"/content/drive/MyDrive/Datasets/mycc\" #@param {type: \"string\"}\n",
        "#@markdown Results folder\n",
        "results_dir = \"/content/drive/MyDrive/Datasets/mycc_result\" #@param {type: \"string\"}\n",
        "\n",
        "test_imgs_dir = shlex.quote(test_imgs_dir)\n",
        "!cp -f $test_imgs_dir/* $dataset_dir/testA/.\n",
        "!cp -f $test_imgs_dir/* $dataset_dir/testB/.\n",
        "\n",
        "results_dir = shlex.quote(results_dir)\n",
        "if not os.path.isdir(results_dir):\n",
        "  !mkdir $results_dir \n",
        "\n",
        "_, _, files = next(os.walk(test_imgs_dir))\n",
        "num_test = len(files)\n",
        "\n",
        "!python test.py --dataroot $dataset_dir --name $name --CUT_mode CUT --direction $direction --preprocess none --num_test $num_test\n",
        "!cp /content/drive/MyDrive/CUT/results/$name/test_latest/images/fake_B/*.png $results_dir\n",
        "!rm -rf /content/drive/MyDrive/CUT/results/$name/\n",
        "!rm -rf $dataset_dir/testA/*\n",
        "!rm -rf $dataset_dir/testB/*"
      ],
      "metadata": {
        "cellView": "form",
        "id": "qxjQlACga5rS"
      },
      "execution_count": null,
      "outputs": []
    }
  ]
}